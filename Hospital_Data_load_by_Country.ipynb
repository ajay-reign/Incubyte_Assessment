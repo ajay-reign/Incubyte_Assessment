{
 "cells": [
  {
   "cell_type": "code",
   "execution_count": 0,
   "metadata": {
    "application/vnd.databricks.v1+cell": {
     "cellMetadata": {
      "byteLimit": 2048000,
      "rowLimit": 10000
     },
     "inputWidgets": {},
     "nuid": "56b03e97-a54e-40ad-8184-43488ed64baf",
     "showTitle": false,
     "title": ""
    }
   },
   "outputs": [],
   "source": [
    "#import Statements\n",
    "from pyspark.sql.types import StructType, StructField, IntegerType, StringType, DoubleType\n",
    "from pyspark.sql.functions import col,datediff,current_date,floor,when\n",
    "import os\n",
    "from datetime import datetime\n",
    "from pathlib import Path"
   ]
  },
  {
   "cell_type": "code",
   "execution_count": 0,
   "metadata": {
    "application/vnd.databricks.v1+cell": {
     "cellMetadata": {
      "byteLimit": 2048000,
      "rowLimit": 10000
     },
     "inputWidgets": {},
     "nuid": "c37ff0b1-3fa6-41b6-a0b5-b0c013fe885a",
     "showTitle": false,
     "title": ""
    }
   },
   "outputs": [],
   "source": [
    "#schema and Variable declaration\n",
    "schema = \"\"\"\n",
    "Empty String,\n",
    "H String,\n",
    "Customer_Name STRING,\n",
    "Customer_ID STRING,\n",
    "Customer_Open_Date STRING,\n",
    "Last_Consulted_Date STRING,\n",
    "Vaccination_Type STRING,\n",
    "Doctor_Consulted STRING,\n",
    "State STRING,\n",
    "Country STRING,\n",
    "Date_of_Birth STRING,\n",
    "Active_Customer STRING\n",
    "\"\"\"\n",
    "formatted_date = datetime.now().strftime('%Y%m%d')\n",
    "file_name=f\"Hospital_data_{formatted_date}.csv\"\n",
    "file_path=f\"dbfs:/FileStore/{file_name}\""
   ]
  },
  {
   "cell_type": "code",
   "execution_count": 0,
   "metadata": {
    "application/vnd.databricks.v1+cell": {
     "cellMetadata": {
      "byteLimit": 2048000,
      "rowLimit": 10000
     },
     "inputWidgets": {},
     "nuid": "27ba4ff2-05ef-400d-b2bf-bd1767876846",
     "showTitle": false,
     "title": ""
    }
   },
   "outputs": [],
   "source": [
    "def load_into_stageTable (file_path:any):\n",
    "    raw_df = spark.read.option(\"header\", True).schema(schema).csv(file_path,sep=\"|\")\n",
    "    #Fetching Only the Required Columns\n",
    "    Stage_df=raw_df.select(\"Customer_ID\",\"Customer_Name\",\"Customer_Open_Date\",\"Last_Consulted_Date\",\"Vaccination_Type\",\"Doctor_Consulted\",\"State\",\"Country\",\"Date_of_Birth\",\"Active_Customer\")\n",
    "    Stage_df.write.mode(\"overwrite\").saveAsTable(\"hospital_data_stage\")\n",
    "    return True\n"
   ]
  },
  {
   "cell_type": "code",
   "execution_count": 0,
   "metadata": {
    "application/vnd.databricks.v1+cell": {
     "cellMetadata": {
      "byteLimit": 2048000,
      "rowLimit": 10000
     },
     "inputWidgets": {},
     "nuid": "2f2dccf5-b838-47ab-b028-e3926e6dc3a4",
     "showTitle": false,
     "title": ""
    }
   },
   "outputs": [],
   "source": [
    "def transformation():\n",
    "    Transformation_df =spark.sql(\"SELECT  Customer_ID,Customer_Name,date_format(to_date(customer_Open_Date, 'yyyyMMdd'), 'yyyy-MM-dd') as customer_Open_Date,date_format(to_date(Last_Consulted_Date, 'yyyyMMdd'), 'yyyy-MM-dd') as Last_Consulted_Date,Vaccination_Type,Doctor_Consulted,State,Country,date_format(to_date(Date_of_Birth, 'ddMMyyyy'), 'yyyy-MM-dd') as Date_of_Birth,Active_Customer FROM hospital_data_stage \")\n",
    "\n",
    "    #derived Columns\n",
    "    Transformation_df=Transformation_df.withColumn(\"Age\",floor(datediff(current_date(),col(\"Date_of_Birth\"))/365)).withColumn(\"Consulted_lastMonth\",when(datediff(current_date(),col(\"Last_Consulted_Date\"))<30,\"Y\").otherwise(\"N\")).withColumn(\"Rundate\",current_date())\n",
    "\n",
    "    #Delete Duplicate records if any and Fill null values with 'Unknown'\n",
    "    Transformation_df=Transformation_df.dropDuplicates().fillna('Unknown')\n",
    "\n",
    "    return Transformation_df"
   ]
  },
  {
   "cell_type": "code",
   "execution_count": 0,
   "metadata": {
    "application/vnd.databricks.v1+cell": {
     "cellMetadata": {
      "byteLimit": 2048000,
      "rowLimit": 10000
     },
     "inputWidgets": {},
     "nuid": "5f900b16-da5a-4a00-9187-f295f18c60a8",
     "showTitle": false,
     "title": ""
    }
   },
   "outputs": [],
   "source": [
    "def loadintoDestination(Transformation_df:any):\n",
    "    countries=Transformation_df.select(\"Country\").distinct().rdd.flatMap(lambda x:x).collect()\n",
    "    for Country in countries:\n",
    "        country_df=Transformation_df.filter(Transformation_df.Country== Country).filter(Transformation_df.Active_Customer==\"A\")\n",
    "\n",
    "        table_name=f\"hospital_data_{Country}\"\n",
    "\n",
    "        country_df.write.mode(\"append\").saveAsTable(table_name)\n",
    "\n",
    "        print (f\"Data for {Country} loaded into table: {table_name}\")\n"
   ]
  },
  {
   "cell_type": "code",
   "execution_count": 0,
   "metadata": {
    "application/vnd.databricks.v1+cell": {
     "cellMetadata": {
      "byteLimit": 2048000,
      "rowLimit": 10000
     },
     "inputWidgets": {},
     "nuid": "13bf9a95-0019-485c-9d34-472cf1d94957",
     "showTitle": false,
     "title": ""
    }
   },
   "outputs": [
    {
     "output_type": "stream",
     "name": "stdout",
     "output_type": "stream",
     "text": [
      "Data for AU loaded into table: hospital_data_AU\nData for USA loaded into table: hospital_data_USA\nData for PHIL loaded into table: hospital_data_PHIL\nData for IND loaded into table: hospital_data_IND\nData for NYC loaded into table: hospital_data_NYC\n"
     ]
    }
   ],
   "source": [
    "#main function\n",
    "if dbutils.fs.ls('dbfs:/FileStore'):\n",
    "    file_exists=any(file.name==file_name for file in dbutils.fs.ls('dbfs:/FileStore'))\n",
    "    if file_exists:\n",
    "        result=load_into_stageTable(file_path)\n",
    "        if result==True:\n",
    "            trans_result=transformation()\n",
    "            loadintoDestination(trans_result)\n",
    "        else:\n",
    "            print(\"Issue with the inbound File\")\n",
    "    else:\n",
    "        print(\"Latest File Doesn't Exist\")"
   ]
  }
 ],
 "metadata": {
  "application/vnd.databricks.v1+notebook": {
   "dashboards": [],
   "environmentMetadata": null,
   "language": "python",
   "notebookMetadata": {
    "mostRecentlyExecutedCommandWithImplicitDF": {
     "commandId": 1134118277378270,
     "dataframes": [
      "_sqldf"
     ]
    },
    "pythonIndentUnit": 4
   },
   "notebookName": "Hospital_Data_load_by_Country",
   "widgets": {}
  }
 },
 "nbformat": 4,
 "nbformat_minor": 0
}
